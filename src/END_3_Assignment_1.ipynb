{
  "nbformat": 4,
  "nbformat_minor": 0,
  "metadata": {
    "colab": {
      "name": "END 3 Assignment 1.ipynb",
      "provenance": []
    },
    "kernelspec": {
      "name": "python3",
      "display_name": "Python 3"
    },
    "language_info": {
      "name": "python"
    }
  },
  "cells": [
    {
      "cell_type": "code",
      "metadata": {
        "colab": {
          "base_uri": "https://localhost:8080/"
        },
        "id": "GC_6PeobwwkH",
        "outputId": "2bc60e64-c9d5-43bb-decd-5662c4b5d625"
      },
      "source": [
        "import torch\n",
        "from torch.autograd import Variable\n",
        "import torch.nn as nn\n",
        "import torch.nn.functional as F\n",
        "import torch.optim as optim\n",
        "import numpy as np\n",
        "import matplotlib.pyplot as plt\n",
        "%matplotlib inline\n",
        "torch.manual_seed(2)"
      ],
      "execution_count": 1,
      "outputs": [
        {
          "output_type": "execute_result",
          "data": {
            "text/plain": [
              "<torch._C.Generator at 0x7f789bef4a90>"
            ]
          },
          "metadata": {},
          "execution_count": 1
        }
      ]
    },
    {
      "cell_type": "code",
      "metadata": {
        "id": "bL64bMTkw2GP"
      },
      "source": [
        "X = torch.Tensor([[0,0], [0,1], [1,0], [1,1]])\n",
        "Y = torch.Tensor([0, 1, 1, 0]).view(-1,1)"
      ],
      "execution_count": 11,
      "outputs": []
    },
    {
      "cell_type": "code",
      "metadata": {
        "id": "aC82kEAIw3Wf"
      },
      "source": [
        "class XOR(nn.Module):\n",
        "    def __init__(self, input_dim = 2, output_dim=1):\n",
        "        super(XOR, self).__init__()\n",
        "        self.lin1 = nn.Linear(input_dim, 5)\n",
        "        self.lin2 = nn.Linear(5, 3)\n",
        "        self.lin3 = nn.Linear(3, 2)        \n",
        "        self.lin4 = nn.Linear(2, output_dim)\n",
        "    \n",
        "    def forward(self, x):\n",
        "        x = self.lin1(x)\n",
        "        x = F.tanh(x)\n",
        "        x = self.lin2(x)      \n",
        "        x = self.lin3(x)                \n",
        "        x = F.tanh(x)                     \n",
        "        x = self.lin4(x)                \n",
        "        x = F.tanh(x)                     \n",
        "        return x"
      ],
      "execution_count": 78,
      "outputs": []
    },
    {
      "cell_type": "code",
      "metadata": {
        "colab": {
          "base_uri": "https://localhost:8080/"
        },
        "id": "8gQIQExYw65K",
        "outputId": "62ac67fa-622a-4111-bb08-b5dfbfaef517"
      },
      "source": [
        "model = XOR()\n",
        "print(model)\n",
        "from torchsummary import summary\n",
        "summary(model, (2,2))"
      ],
      "execution_count": 79,
      "outputs": [
        {
          "output_type": "stream",
          "name": "stdout",
          "text": [
            "XOR(\n",
            "  (lin1): Linear(in_features=2, out_features=5, bias=True)\n",
            "  (lin2): Linear(in_features=5, out_features=3, bias=True)\n",
            "  (lin3): Linear(in_features=3, out_features=2, bias=True)\n",
            "  (lin4): Linear(in_features=2, out_features=1, bias=True)\n",
            ")\n",
            "----------------------------------------------------------------\n",
            "        Layer (type)               Output Shape         Param #\n",
            "================================================================\n",
            "            Linear-1                 [-1, 2, 5]              15\n",
            "            Linear-2                 [-1, 2, 3]              18\n",
            "            Linear-3                 [-1, 2, 2]               8\n",
            "            Linear-4                 [-1, 2, 1]               3\n",
            "================================================================\n",
            "Total params: 44\n",
            "Trainable params: 44\n",
            "Non-trainable params: 0\n",
            "----------------------------------------------------------------\n",
            "Input size (MB): 0.00\n",
            "Forward/backward pass size (MB): 0.00\n",
            "Params size (MB): 0.00\n",
            "Estimated Total Size (MB): 0.00\n",
            "----------------------------------------------------------------\n"
          ]
        },
        {
          "output_type": "stream",
          "name": "stderr",
          "text": [
            "/usr/local/lib/python3.7/dist-packages/torch/nn/functional.py:1794: UserWarning: nn.functional.tanh is deprecated. Use torch.tanh instead.\n",
            "  warnings.warn(\"nn.functional.tanh is deprecated. Use torch.tanh instead.\")\n"
          ]
        }
      ]
    },
    {
      "cell_type": "code",
      "metadata": {
        "id": "yeotEq19x6XF"
      },
      "source": [
        "def weights_init(model):\n",
        "    for m in model.modules():\n",
        "        if isinstance(m, nn.Linear):\n",
        "            # initialize the weight tensor, here we use a normal distribution\n",
        "            m.weight.data.normal_(0, 1)\n",
        "\n",
        "weights_init(model)"
      ],
      "execution_count": 80,
      "outputs": []
    },
    {
      "cell_type": "code",
      "metadata": {
        "id": "WrD_sNzLx78e"
      },
      "source": [
        "loss_func = nn.L1Loss()"
      ],
      "execution_count": 81,
      "outputs": []
    },
    {
      "cell_type": "code",
      "metadata": {
        "id": "-zvbrMd2x_lA"
      },
      "source": [
        "optimizer = optim.SGD(model.parameters(), lr=0.02, momentum=0.9)"
      ],
      "execution_count": 82,
      "outputs": []
    },
    {
      "cell_type": "code",
      "metadata": {
        "colab": {
          "base_uri": "https://localhost:8080/"
        },
        "id": "q7tWa3D7yA5X",
        "outputId": "fe67a264-4bd2-4269-ef5c-82465751fb06"
      },
      "source": [
        "epochs = 2001\n",
        "steps = X.size(0)\n",
        "for i in range(epochs):\n",
        "    for j in range(steps):\n",
        "        data_point = np.random.randint(X.size(0))\n",
        "        x_var = Variable(X[data_point], requires_grad=False)\n",
        "        y_var = Variable(Y[data_point], requires_grad=False)\n",
        "        \n",
        "        optimizer.zero_grad()\n",
        "        y_hat = model(x_var)\n",
        "        loss = loss_func.forward(y_hat, y_var)\n",
        "        loss.backward()\n",
        "        optimizer.step()\n",
        "        \n",
        "    if i % 50 == 0:\n",
        "        print( \"Epoch: {0}, Loss: {1}, \".format(i, loss.data.numpy()))"
      ],
      "execution_count": 83,
      "outputs": [
        {
          "output_type": "stream",
          "name": "stderr",
          "text": [
            "/usr/local/lib/python3.7/dist-packages/torch/nn/functional.py:1794: UserWarning: nn.functional.tanh is deprecated. Use torch.tanh instead.\n",
            "  warnings.warn(\"nn.functional.tanh is deprecated. Use torch.tanh instead.\")\n"
          ]
        },
        {
          "output_type": "stream",
          "name": "stdout",
          "text": [
            "Epoch: 0, Loss: 1.256588101387024, \n",
            "Epoch: 50, Loss: 0.004651546478271484, \n",
            "Epoch: 100, Loss: 0.9950822591781616, \n",
            "Epoch: 150, Loss: 0.9947145581245422, \n",
            "Epoch: 200, Loss: 0.005499362945556641, \n",
            "Epoch: 250, Loss: 0.004876852035522461, \n",
            "Epoch: 300, Loss: 0.0040627121925354, \n",
            "Epoch: 350, Loss: 0.003499150276184082, \n",
            "Epoch: 400, Loss: 0.0035597681999206543, \n",
            "Epoch: 450, Loss: 0.003688812255859375, \n",
            "Epoch: 500, Loss: 0.9966374635696411, \n",
            "Epoch: 550, Loss: 0.003705918788909912, \n",
            "Epoch: 600, Loss: 0.9967597126960754, \n",
            "Epoch: 650, Loss: 0.9966135621070862, \n",
            "Epoch: 700, Loss: 0.9969542622566223, \n",
            "Epoch: 750, Loss: 0.997129499912262, \n",
            "Epoch: 800, Loss: 0.0030754804611206055, \n",
            "Epoch: 850, Loss: 0.00250929594039917, \n",
            "Epoch: 900, Loss: 0.9975886940956116, \n",
            "Epoch: 950, Loss: 0.002540111541748047, \n",
            "Epoch: 1000, Loss: 0.00270920991897583, \n",
            "Epoch: 1050, Loss: 0.0027368664741516113, \n",
            "Epoch: 1100, Loss: 0.9971707463264465, \n",
            "Epoch: 1150, Loss: 0.0027791857719421387, \n",
            "Epoch: 1200, Loss: 0.0027358531951904297, \n",
            "Epoch: 1250, Loss: 0.0029755234718322754, \n",
            "Epoch: 1300, Loss: 0.9971875548362732, \n",
            "Epoch: 1350, Loss: 0.9967172741889954, \n",
            "Epoch: 1400, Loss: 0.00338900089263916, \n",
            "Epoch: 1450, Loss: 0.9967872500419617, \n",
            "Epoch: 1500, Loss: 0.0036754608154296875, \n",
            "Epoch: 1550, Loss: 0.9960744380950928, \n",
            "Epoch: 1600, Loss: 0.004443645477294922, \n",
            "Epoch: 1650, Loss: 0.004978060722351074, \n",
            "Epoch: 1700, Loss: 0.006609618663787842, \n",
            "Epoch: 1750, Loss: 0.008246779441833496, \n",
            "Epoch: 1800, Loss: 0.9858887791633606, \n",
            "Epoch: 1850, Loss: 0.010723412036895752, \n",
            "Epoch: 1900, Loss: 0.009787678718566895, \n",
            "Epoch: 1950, Loss: 0.9926876425743103, \n",
            "Epoch: 2000, Loss: 0.006930887699127197, \n"
          ]
        }
      ]
    },
    {
      "cell_type": "code",
      "metadata": {
        "id": "QV0dIdveyCRi"
      },
      "source": [
        ""
      ],
      "execution_count": null,
      "outputs": []
    }
  ]
}